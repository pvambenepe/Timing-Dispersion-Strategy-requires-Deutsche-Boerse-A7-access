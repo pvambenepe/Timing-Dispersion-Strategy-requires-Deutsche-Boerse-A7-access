{
 "cells": [
  {
   "cell_type": "markdown",
   "metadata": {
    "collapsed": true
   },
   "source": [
    "<h1>How to time a Dispersion Strategy</h1>\n"
   ]
  },
  {
   "cell_type": "code",
   "execution_count": 1,
   "metadata": {
    "pycharm": {
     "name": "#%%\n"
    }
   },
   "outputs": [],
   "source": [
    "<h6> First some setup</h6>"
   ]
  },
  {
   "cell_type": "code",
   "execution_count": 16,
   "metadata": {
    "pycharm": {
     "name": "#%%\n"
    }
   },
   "outputs": [],
   "source": [
    "# Indicate here the folders where you want the intraday quotes to be stored (folder1)\n",
    "# and the calibration result (folder 2)\n",
    "\n",
    "folder1 = 'D:/Users/GitHub/Dispersion Volatility/processed'\n",
    "folder2 = 'D:/Users/GitHub/Dispersion Volatility/parameters'\n",
    "\n",
    "import os\n",
    "os.makedirs(folder1, exist_ok=True)\n",
    "os.makedirs(folder2, exist_ok=True)"
   ]
  },
  {
   "cell_type": "code",
   "execution_count": 17,
   "metadata": {
    "pycharm": {
     "name": "#%%\n"
    }
   },
   "outputs": [],
   "source": [
    "# We are now importing public libraries\n",
    "import numpy as np\n",
    "import pandas as pd\n",
    "import QuantLib as ql\n",
    "import math\n",
    "import datetime\n",
    "import matplotlib.pyplot as plt\n",
    "import requests\n",
    "import warnings\n",
    "from IPython.display import display, HTML\n",
    "\n",
    "pd.set_option('display.width', 200)\n",
    "pd.set_option('display.max_columns', 30)"
   ]
  },
  {
   "cell_type": "code",
   "execution_count": 18,
   "metadata": {
    "pycharm": {
     "name": "#%%\n"
    }
   },
   "outputs": [],
   "source": [
    "# ...and specific libraries available in this git\n",
    "\n",
    "from DateAndTime import DateAndTime\n",
    "# uses QuantLib to calculate numbers of business day between dates and generate a list expiration dates\n",
    "\n",
    "from PricingAndCalibration import Pricing\n",
    "# uses Quantlib to price European and American options with continuous dividend yield and the associated greeks\n",
    "\n",
    "from PricingAndCalibration import FittingSpline\n",
    "# uses scipy-UnivariateSpline to fit a 2nd degree spline through the implicit vol of bid and ask quotes (for each maturity)"
   ]
  },
  {
   "cell_type": "code",
   "execution_count": 19,
   "metadata": {
    "pycharm": {
     "name": "#%%\n"
    }
   },
   "outputs": [],
   "source": [
    "# Choose here the time frame and the maturity to retrieve\n",
    "from_date='20200310'\n",
    "until_date='20200321'\n",
    "chosen_matu = ['20201218']\n",
    "\n",
    "#And now the underlyings with index weight\n",
    "# [A7 option code, Spot whern weight in % was observed, Weight in %, Isin code, Underlying future code (for index)]\n",
    "index_list = [('OESX', 3655.77, '', '', 'FESX')]\n",
    "\n",
    "#you can reduce this stock list in ordre to save time...\n",
    "udl_list = [\n",
    "    ('SAP', 108.47, 6.17, 'DE0007164600', ''),\n",
    "    ('ASM', 460, 5.69, 'NL0010273215', ''),\n",
    "    ('LIN', 257.37, 4.69, 'IE00BZ12WP82', ''),\n",
    "    ('MOH', 528.7, 4.58, 'FR0000121014', ''),\n",
    "    ('SNW', 80.01, 4.13, 'FR0000120578', ''),\n",
    "    ('SIE', 133.06, 3.42, 'DE0007236101', ''),\n",
    "    ('TOTB', 35.07, 3.16, 'FR0000120271', ''),\n",
    "    ('ALV', 195.77, 2.89, 'DE0008404005', ''),\n",
    "    ('LOR', 305.6,2.89, 'FR0000120321', ''),\n",
    "    ('AIR', 136.25, 2.74, 'FR0000120073', ''),\n",
    "    ('IBE', 11.26, 2.57, 'ES0144580Y14', ''),\n",
    "    ('SND', 124.6, 2.52, 'FR0000121972', ''),\n",
    "    ('ENL5', 8.439, 2.45, 'IT0003128367', ''),\n",
    "    ('BAY', 56.15, 2.21, 'DE000BAY0017', ''),\n",
    "    ('ADS', 278, 2.2, 'DE000A1EWWW0', ''),\n",
    "    ('BAS', 66.86, 2.02, 'DE000BASF111', ''),\n",
    "    ('ADY', 1884.5, 1.86, 'NL0012969182', ''),\n",
    "    ('PPX', 549, 1.81, 'FR0000121485', ''),\n",
    "    ('SQU', 86, 1.71, 'FR0000125486', ''),\n",
    "    ('ITK', 54.78, 1.64, 'BE0974293251', ''),\n",
    "    ('DPW', 42.165, 1.63, 'DE0005552004', ''),\n",
    "    ('DAI', 66.9, 1.61, 'DE0007100000', ''),\n",
    "    ('PHI1', 47.08, 1.54, 'NL0000009538', ''),\n",
    "    ('EAD', 93.42, 1.53, 'NL0000235190', ''),\n",
    "    ('BSN', 53.34, 1.5, 'FR0000120644', ''),\n",
    "    ('BNP', 53.595, 1.5, 'FR0000131104', ''),\n",
    "#     ('PROSUS', 100.05, 1.44, 'NL0013654783', ''),\n",
    "#     ('ESL', 128.75, 1.44, 'FR0000121667', 'no stock on Xetra'),\n",
    "    ('AXA', 19.204, 1.37, 'FR0000120628', ''),\n",
    "#      ('KONE', 66.03, 1.29, 'FI0009013403', ''), \n",
    "    ('MUV2', 233.5, 1.58, 'DE0008430026', ''),\n",
    "#     ('SEJ', 112.2, 1.26, 'FR0000073272', 'no stock on Xetra'),\n",
    "    ('ANN', 55.53, 1.26, 'DE000A1ML7J1', ''),\n",
    "    ('IES5', 2.059, 1.22, 'IT0000072618', ''),\n",
    "    ('DB1', 136.4, 1.21, 'DE0005810055', ''),\n",
    "    ('AHO', 23.35, 1.18, 'NL0011794037', ''),\n",
    "    ('PER', 163.2, 1.15, 'FR0000120693', ''),\n",
    "    ('IXD', 26.115, 1.12, 'ES0148396007', ''),\n",
    "    ('BSD2', 2.774, 1.11, 'ES0113900J37', ''),\n",
    "    ('VO3', 162.35, 1.07, 'DE0007664039', ''),\n",
    "#     ('CRG', 35.51, 1.05, 'US12626K2033', 'no stock on Xetra'),\n",
    "    ('INN', 7.766, 0.99, 'NL0011821202', ''),\n",
    "#     ('AI3A', 56.37, 0.9, 'ES0109067019', 'no stock on Xetra'),\n",
    "    ('VVU', 25.92, 0.87, 'FR0000127771', ''),\n",
    "    ('BMW', 70.295, 0.83, 'DE0005190003', ''),\n",
    "    ('NOA3', 3.495, 0.8, 'FI0009000681', ''),\n",
    "    ('ENT5', 8.645, 0.7, 'IT0003132476', '')]"
   ]
  },
  {
   "cell_type": "code",
   "execution_count": 20,
   "metadata": {
    "pycharm": {
     "name": "#%%²\n"
    }
   },
   "outputs": [],
   "source": [
    "#indicate your A7 credentials :\n",
    "owner = 'your A7 username here'\n",
    "\n",
    "API_TOKEN = \"Bearer \" + \"your A7 API token here\"\n",
    "# The API token is obtained by clicking on your name in the upper right corner of the A7 Analytics Platform, and then on \"API token generation\"\n",
    "\n",
    "proxies = {\n",
    "    \"http\": \"\",  # Enter http Proxy if needed\",\n",
    "    \"https\": \"\"  # Enter https Proxy if needed\",\n",
    "}"
   ]
  },
  {
   "cell_type": "code",
   "execution_count": 21,
   "metadata": {
    "pycharm": {
     "name": "#%%\n"
    }
   },
   "outputs": [],
   "source": [
    "# Select an algo to retrieve quotes on A7.\n",
    "# 'minsize_level_tb' allows you to look into the orderbook until finding a minimum number of lots.\n",
    "# 'minsize_level_fast' goes faster by looking only at the top level\n",
    "# Both algos are given in this git as a .yml file\n",
    "# They must be loaded first in your A7 account.\n",
    "algo = 'minsize_level_tb'\n",
    "\n",
    "# If you have chosen the 'minsize_level' algo :\n",
    "min_lots = 1"
   ]
  },
  {
   "cell_type": "code",
   "execution_count": 22,
   "metadata": {
    "pycharm": {
     "name": "#%%\n"
    }
   },
   "outputs": [],
   "source": [
    "# Filter settings to speed up the process since we are only interested in At The Money volatility\n",
    "# Levels are indicated for 1 year maturity option with an adjustment in sqrt(T)\n",
    "moneyness_range_call = (-0.025, 0.15)\n",
    "moneyness_range_put = (-0.15, 0.025)\n",
    "\n",
    "# Create instances of DateAndTime both for italian and other underlyings\n",
    "DT = DateAndTime(from_date, until_date, force_matu=chosen_matu)\n",
    "DTi = DateAndTime(from_date, until_date, force_matu=chosen_matu, ital_rule=True)"
   ]
  },
  {
   "cell_type": "code",
   "execution_count": 23,
   "metadata": {
    "pycharm": {
     "name": "#%%\n"
    }
   },
   "outputs": [],
   "source": [
    "<h6>The next function retrieves the intraday quotes given an option code</h6>"
   ]
  },
  {
   "cell_type": "markdown",
   "metadata": {
    "pycharm": {
     "name": "#%%\n"
    }
   },
   "source": [
    "def get_quotes(opt):\n",
    "    if opt['PutOrCall'] == 'S':\n",
    "        market = 'XETR'\n",
    "    else:\n",
    "        market = 'XEUR'\n",
    "\n",
    "    url = 'https://a7.deutsche-boerse.com/api/v1/algo/{}/{}/'.format(owner, algo)\n",
    "    url = url + \"run?marketId={}&date={}&marketSegmentId={}&securityId={}&from_h=9&from_m=10&&min_lots={}&to_h=17&to_m=25&ts_step=120\".format(\n",
    "        market, reference_date, opt['SegmentID'], opt['SecurityID'], min_lots)\n",
    "\n",
    "    r = requests.get(url=url, headers={'Authorization': API_TOKEN}, proxies=proxies)\n",
    "    res = r.json()\n",
    "\n",
    "    if type(res) == list:\n",
    "        df_opt = pd.DataFrame.from_dict(res[0]['series'][0]['content'])\n",
    "        df_opt.ts = df_opt.ts.astype(np.int64)\n",
    "        df_opt.ts = pd.to_datetime(df_opt.ts)\n",
    "        df_opt.set_index('ts', inplace=True)\n",
    "\n",
    "        df_opt[selected_fields_desc] = opt[selected_fields_desc]\n",
    "        return (df_opt)"
   ]
  },
  {
   "cell_type": "code",
   "execution_count": 24,
   "metadata": {
    "pycharm": {
     "name": "#%%\n"
    }
   },
   "outputs": [],
   "source": [
    "<h6>This function retrieves instruments from A7 in the res* lists, </h6>\n",
    "    \n",
    "It also gets segment codes in segment*,\n",
    "\n",
    "and fills the  matu_list* with relevant maturities"
   ]
  },
  {
   "cell_type": "markdown",
   "metadata": {
    "pycharm": {
     "name": "#%%\n"
    }
   },
   "source": [
    "def retrieve_instruments_from_A7():\n",
    "\n",
    "    global res_u, res_f, res_i\n",
    "    global segmentIDudl, segmentIDfut, segmentIDopt, security\n",
    "    global matu_list_Stk, matu_list_Fut, matu_list_Opt\n",
    "\n",
    "    # stock\n",
    "    if (udl_p not in index_list) and (udl_p[4] != 'no stock on Xetra'):\n",
    "        lst_ms = np.array([x['MarketSegment'] for x in res_gu['MarketSegments']])\n",
    "        indx = np.where(lst_ms == isin)[0][0]\n",
    "        segmentIDudl = res_gu['MarketSegments'][indx]['MarketSegmentID']\n",
    "\n",
    "        url = 'https://a7.deutsche-boerse.com/api/v1/rdi/XETR/{}/{}?mode=detailed'.format(reference_date,\n",
    "                                                                                          segmentIDudl)\n",
    "        r = requests.get(url=url, headers={'Authorization': API_TOKEN}, proxies=proxies)\n",
    "        res_u = r.json()\n",
    "        security = res_u['Securities'][0]\n",
    "\n",
    "        matu_list_Stk = ['UDL']\n",
    "    else:\n",
    "        matu_list_Stk = []\n",
    "\n",
    "    # Futures\n",
    "    if (udl_p in index_list):\n",
    "        udl_f = udl_p[4]\n",
    "\n",
    "        lst_ms = np.array([x['MarketSegment'] for x in res_go['MarketSegments']])\n",
    "        indx = np.where(lst_ms == udl_f)[0][0]\n",
    "        segmentIDfut = res_go['MarketSegments'][indx]['MarketSegmentID']\n",
    "\n",
    "        url = 'https://a7.deutsche-boerse.com/api/v1/rdi/XEUR/{}/{}?mode=detailed'.format(\n",
    "            reference_date,\n",
    "            segmentIDfut)\n",
    "        r = requests.get(url=url, headers={'Authorization': API_TOKEN}, proxies=proxies)\n",
    "        res_f = r.json()\n",
    "\n",
    "        matu_list_Fut = DT_u.get_matu_list(reference_date, trim=True)[:2]\n",
    "    else:\n",
    "        matu_list_Fut = []\n",
    "\n",
    "    # Options\n",
    "\n",
    "    lst_ms = np.array([x['MarketSegment'] for x in res_go['MarketSegments']])\n",
    "    indx = np.where(lst_ms == udl)[0][0]\n",
    "    segmentIDopt = res_go['MarketSegments'][indx]['MarketSegmentID']\n",
    "\n",
    "    url = 'https://a7.deutsche-boerse.com/api/v1/rdi/XEUR/{}/{}?mode=detailed'.format(reference_date,\n",
    "                                                                                      segmentIDopt)\n",
    "    r = requests.get(url=url, headers={'Authorization': API_TOKEN}, proxies=proxies)\n",
    "    res_i = r.json()\n",
    "\n",
    "    matu_list_Opt = DT_u.get_matu_list(reference_date)"
   ]
  },
  {
   "cell_type": "code",
   "execution_count": 25,
   "metadata": {
    "pycharm": {
     "name": "#%%\n"
    }
   },
   "outputs": [
    {
     "name": "stdout",
     "output_type": "stream",
     "text": [
      "20200303\n",
      "20200310\n",
      "20200317\n",
      "                        ask     bid PutOrCall StrikePrice  ContractMultiplier ExerciseStyle matu  udl\n",
      "ts                                                                                                   \n",
      "2020-03-03 10:10:00  177.55  177.50         S        None                   1          None  UDL  LIN\n",
      "2020-03-03 12:10:00  177.80  177.70         S        None                   1          None  UDL  LIN\n",
      "2020-03-03 14:10:00  177.85  177.80         S        None                   1          None  UDL  LIN\n",
      "2020-03-03 16:10:00  177.75  177.65         S        None                   1          None  UDL  LIN\n",
      "2020-03-03 16:25:00  176.20  176.10         S        None                   1          None  UDL  LIN\n",
      "\n",
      "                        ask     bid PutOrCall StrikePrice  ContractMultiplier ExerciseStyle matu  udl\n",
      "ts                                                                                                   \n",
      "2020-03-03 10:10:00  177.55  177.50         S        None                   1          None  UDL  LIN\n",
      "2020-03-03 12:10:00  177.80  177.70         S        None                   1          None  UDL  LIN\n",
      "2020-03-03 14:10:00  177.85  177.80         S        None                   1          None  UDL  LIN\n",
      "2020-03-03 16:10:00  177.75  177.65         S        None                   1          None  UDL  LIN\n",
      "2020-03-03 16:25:00  176.20  176.10         S        None                   1          None  UDL  LIN\n",
      "\n",
      "                        ask     bid PutOrCall StrikePrice  ContractMultiplier ExerciseStyle matu  udl\n",
      "ts                                                                                                   \n",
      "2020-03-03 10:10:00  177.55  177.50         S        None                   1          None  UDL  LIN\n",
      "2020-03-03 12:10:00  177.80  177.70         S        None                   1          None  UDL  LIN\n",
      "2020-03-03 14:10:00  177.85  177.80         S        None                   1          None  UDL  LIN\n",
      "2020-03-03 16:10:00  177.75  177.65         S        None                   1          None  UDL  LIN\n",
      "2020-03-03 16:25:00  176.20  176.10         S        None                   1          None  UDL  LIN\n",
      "\n",
      "                        ask     bid PutOrCall StrikePrice  ContractMultiplier ExerciseStyle matu  udl\n",
      "ts                                                                                                   \n",
      "2020-03-03 10:10:00  177.55  177.50         S        None                   1          None  UDL  LIN\n",
      "2020-03-03 12:10:00  177.80  177.70         S        None                   1          None  UDL  LIN\n",
      "2020-03-03 14:10:00  177.85  177.80         S        None                   1          None  UDL  LIN\n",
      "2020-03-03 16:10:00  177.75  177.65         S        None                   1          None  UDL  LIN\n",
      "2020-03-03 16:25:00  176.20  176.10         S        None                   1          None  UDL  LIN\n",
      "\n"
     ]
    }
   ],
   "source": [
    "<h6>The next function transforms raw A7 output int dataframe of instrument to be retrieved.</h6>\n",
    "It first tackles underlying (stock of futures) because it needs a underlying price to select \"in_range\" (ie. around the money) option to be put in df."
   ]
  },
  {
   "cell_type": "markdown",
   "metadata": {
    "pycharm": {
     "name": "#%%\n"
    }
   },
   "source": [
    "def build_options_list():\n",
    "\n",
    "    global df_orderbook\n",
    "\n",
    "    df_u = pd.DataFrame(columns=['SegmentID'] + selected_fields + selected_fields_desc)\n",
    "\n",
    "    i = 0\n",
    "    for matu in matu_list_Stk:\n",
    "        df_u.loc[i] = [segmentIDudl, security['SecurityDesc'], security['SecurityID'], 'S', None, 1, None]\n",
    "        df_opt = get_quotes(df_u.loc[i])\n",
    "        df_opt['matu'] = matu\n",
    "        df_opt['udl'] = udl\n",
    "        df_opt = df_opt.loc[(df_opt.bid > 0) & (df_opt.ask > 0)]\n",
    "        df_orderbook = df_orderbook.append(df_opt)\n",
    "        i += 1\n",
    "\n",
    "    for c, matu in enumerate(matu_list_Fut):\n",
    "        for x in [x for x in res_f['Securities'] if (str(x['MaturityDate']) == matu) and (x['SecurityType'] == 'FUT')]:\n",
    "            df_u.loc[i] = [segmentIDfut] + [x[elt] for elt in selected_fields] + [\n",
    "                x['DerivativesDescriptorGroup']['SimpleInstrumentDescriptorGroup'][elt] for elt in selected_fields_desc]\n",
    "            df_u.loc[i]['PutOrCall'] = 'FUT' + str(c)\n",
    "            df_opt = get_quotes(df_u.loc[i])\n",
    "            df_opt['matu'] = matu\n",
    "            df_opt['udl'] = udl\n",
    "            df_opt = df_opt.loc[(df_opt.bid > 0) & (df_opt.ask > 0)]\n",
    "            df_orderbook = df_orderbook.append(df_opt)\n",
    "            i += 1\n",
    "\n",
    "    FVUmin = (df_opt.bid.min() + df_orderbook.ask.min()) / 2\n",
    "    FVUmax = (df_opt.bid.max() + df_orderbook.ask.max()) / 2\n",
    "\n",
    "    for matu in matu_list_Opt:\n",
    "        \n",
    "        i = 0\n",
    "        df = pd.DataFrame(columns=['SegmentID'] + selected_fields + selected_fields_desc)\n",
    "\n",
    "        for x in [x for x in res_i['Securities'] if\n",
    "                  (str(x['MaturityDate']) == matu) and (x['SecurityType'] == 'OPT')]:\n",
    "            df.loc[i] = [segmentIDopt] + [x[elt] for elt in selected_fields] + \\\n",
    "                        [x['DerivativesDescriptorGroup']['SimpleInstrumentDescriptorGroup'][elt] for elt\n",
    "                         in selected_fields_desc]\n",
    "            i += 1\n",
    "\n",
    "        df.sort_values(by=['StrikePrice', 'PutOrCall'], ascending=[True, True], inplace=True)\n",
    "\n",
    "        TTM = DT_u.time_between(pd.Timestamp(reference_date), pd.Timestamp(matu))\n",
    "        df['matu'] = matu\n",
    "        df['moneyness_T_min'] = df.apply(\n",
    "            lambda opt: math.log(opt.StrikePrice / FVUmax) / (max(3.0 / 12.0, TTM) ** 0.5), axis='columns')\n",
    "        # we consider that div max is 8%\n",
    "        df['moneyness_T_max'] = df.apply(\n",
    "            lambda opt: math.log(opt.StrikePrice / (FVUmin * 0.92)) / (max(3.0 / 12.0, TTM) ** 0.5), axis='columns')\n",
    "\n",
    "        df['in_range'] = df.apply(lambda opt: (opt.moneyness_T_max > moneyness_range_call[0]) and (\n",
    "                opt.moneyness_T_min < moneyness_range_call[1]) \\\n",
    "            if opt.PutOrCall == '1' else \\\n",
    "            (opt.moneyness_T_max > moneyness_range_put[0]) and (\n",
    "                    opt.moneyness_T_min < moneyness_range_put[1]),\n",
    "                                  axis='columns')\n",
    "\n",
    "    return (df.loc[df.in_range])"
   ]
  },
  {
   "cell_type": "code",
   "execution_count": 26,
   "metadata": {
    "pycharm": {
     "name": "#%%\n"
    }
   },
   "outputs": [
    {
     "name": "stdout",
     "output_type": "stream",
     "text": [
      "OESX\n",
      "20200304\n",
      "   20201218\n",
      "20200305\n",
      "   20201218\n",
      "20200306\n",
      "   20201218\n",
      "20200309\n",
      "   20201218\n",
      "20200311\n",
      "   20201218\n",
      "20200312\n",
      "   20201218\n",
      "20200313\n",
      "   20201218\n",
      "20200316\n",
      "   20201218\n",
      "20200318\n",
      "   20201218\n",
      "20200319\n",
      "   20201218\n",
      "20200320\n",
      "   20201218\n",
      "SAP\n",
      "20200303\n",
      "   20201218\n",
      "20200304\n",
      "   20201218\n",
      "20200305\n",
      "   20201218\n",
      "20200306\n",
      "   20201218\n",
      "20200309\n",
      "   20201218\n",
      "20200311\n",
      "   20201218\n",
      "20200312\n",
      "   20201218\n",
      "20200313\n",
      "   20201218\n",
      "20200316\n",
      "   20201218\n",
      "20200318\n",
      "   20201218\n",
      "20200319\n",
      "   20201218\n",
      "20200320\n",
      "   20201218\n",
      "ASM\n",
      "20200304\n",
      "   20201218\n",
      "20200305\n",
      "   20201218\n",
      "20200306\n",
      "   20201218\n",
      "20200309\n",
      "   20201218\n",
      "20200311\n",
      "   20201218\n",
      "20200312\n",
      "   20201218\n",
      "20200313\n",
      "   20201218\n",
      "20200316\n",
      "   20201218\n",
      "20200318\n",
      "   20201218\n",
      "20200319\n",
      "   20201218\n",
      "20200320\n",
      "   20201218\n",
      "LIN\n",
      "20200304\n",
      "   20201218\n",
      "20200305\n",
      "   20201218\n",
      "20200306\n",
      "   20201218\n",
      "20200309\n",
      "   20201218\n",
      "20200311\n",
      "   20201218\n",
      "20200312\n",
      "   20201218\n",
      "20200313\n",
      "   20201218\n",
      "20200316\n",
      "   20201218\n",
      "20200318\n",
      "   20201218\n",
      "20200319\n",
      "   20201218\n",
      "20200320\n",
      "   20201218\n",
      "                                                                     spline_bid                                         spline_ask  FwdRatio     Spot      Error      Spread Fwd_computed\n",
      "ts                  matu                                                                                                                                                                 \n",
      "2020-03-03 10:10:00 20201218  <scipy.interpolate.fitpack2.LSQUnivariateSplin...  <scipy.interpolate.fitpack2.LSQUnivariateSplin...  0.982183  177.525  85.648999  129.559217         True\n",
      "2020-03-03 16:25:00 20201218  <scipy.interpolate.fitpack2.LSQUnivariateSplin...  <scipy.interpolate.fitpack2.LSQUnivariateSplin...  0.976966  177.525  14.236743  147.601476         True\n",
      "2020-03-10 10:10:00 20201218  <scipy.interpolate.fitpack2.LSQUnivariateSplin...  <scipy.interpolate.fitpack2.LSQUnivariateSplin...  0.988524  155.225  61.100960  119.181833         True\n",
      "2020-03-10 12:10:00 20201218  <scipy.interpolate.fitpack2.LSQUnivariateSplin...  <scipy.interpolate.fitpack2.LSQUnivariateSplin...  0.986571  155.225  19.870925   83.762887         True\n",
      "2020-03-10 14:10:00 20201218  <scipy.interpolate.fitpack2.LSQUnivariateSplin...  <scipy.interpolate.fitpack2.LSQUnivariateSplin...  0.986364  155.225  14.134945   78.328982         True\n"
     ]
    }
   ],
   "source": [
    "<h6>Let's now use these functions to retrieve the intraday quotes data and save them in the df_ordebook dataframe</h6>"
   ]
  },
  {
   "cell_type": "markdown",
   "metadata": {
    "pycharm": {
     "name": "#%%\n"
    }
   },
   "source": [
    "a = datetime.datetime.now()  # time check\n",
    "\n",
    "for reference_date in DT.dates_list:\n",
    "    print(reference_date)\n",
    "\n",
    "    # retrieve all instruments (stocks the options) from A7\n",
    "\n",
    "    url = 'https://a7.deutsche-boerse.com/api/v1/rdi/XETR/{}?mode=detailed'.format(reference_date)\n",
    "    r = requests.get(url=url, headers={'Authorization': API_TOKEN}, proxies=proxies)\n",
    "    res_gu = r.json()\n",
    "\n",
    "    url = 'https://a7.deutsche-boerse.com/api/v1/rdi/XEUR/{}?mode=detailed'.format(reference_date)\n",
    "    r = requests.get(url=url, headers={'Authorization': API_TOKEN}, proxies=proxies)\n",
    "    res_go = r.json()\n",
    "\n",
    "    for udl_p in index_list + udl_list:\n",
    "        udl = udl_p[0]\n",
    "        isin = udl_p[3]\n",
    "\n",
    "        # Determine which instance of DT class : the normal one (DT)\n",
    "        # or the one giving thursday expiry dor italian stocks (DTi)\n",
    "        if isin[:2] == 'IT':\n",
    "            DT_u = DTi\n",
    "        else:\n",
    "            DT_u = DT\n",
    "\n",
    "        try:\n",
    "            df_orderbook = pd.read_pickle(folder1 + '/Quotes_' + udl + '.pkl')\n",
    "        except:\n",
    "            df_orderbook = pd.DataFrame()\n",
    "\n",
    "        if df_orderbook.shape[0] > 0:\n",
    "            done_already = [elt.strftime('%Y%m%d') for elt in set([elt.date() for elt in df_orderbook.index])]\n",
    "        else:\n",
    "            done_already = []\n",
    "\n",
    "        if reference_date not in done_already:\n",
    "\n",
    "            try:\n",
    "\n",
    "                retrieve_instruments_from_A7()\n",
    "\n",
    "                # retrieves quotes\n",
    "\n",
    "                selected_fields = ['SecurityDesc', 'SecurityID']\n",
    "                selected_fields_desc = ['PutOrCall', 'StrikePrice', 'ContractMultiplier', 'ExerciseStyle']\n",
    "\n",
    "                df = build_options_list()\n",
    "\n",
    "                for index, opt in df.iterrows():\n",
    "                    df_opt = get_quotes(opt)\n",
    "                    df_opt['matu'] = opt.matu\n",
    "                    df_opt['udl'] = udl\n",
    "                    df_opt = df_opt.loc[(df_opt.bid > 0) & (df_opt.ask > 0)]\n",
    "                    df_orderbook = df_orderbook.append(df_opt)\n",
    "\n",
    "            except:\n",
    "                print('\\n\\n\\n fail for : {}, {}\\n\\n\\n'.format(reference_date, udl))\n",
    "\n",
    "        df_orderbook.to_pickle(folder1 + '/Quotes_' + udl + '.pkl')\n",
    "\n",
    "for udl_p in index_list + udl_list:\n",
    "    print(display(HTML(df_orderbook.head().to_html())))\n",
    "    print('')"
   ]
  },
  {
   "cell_type": "code",
   "execution_count": 27,
   "metadata": {
    "pycharm": {
     "name": "#%%\n"
    }
   },
   "outputs": [
    {
     "name": "stdout",
     "output_type": "stream",
     "text": [
      "             udl     ATFbid     ATFask    Spot     Error  RefSpot         W isin  info  DispVolbid  DispVolask\n",
      "ts                                                                                                            \n",
      "2020-03-03  OESX  16.503958  17.174238  3414.5  2.375209  3655.77  0.069222       FESX   10.444283   11.324581\n",
      "2020-03-10  OESX  24.646138  25.215311  3071.5  1.955628  3655.77  0.139757       FESX    5.640720    7.395233\n",
      "2020-03-17  OESX  35.690101  37.699133  2404.5  2.134421  3655.77  0.155439       FESX    6.183251   10.423423\n",
      "             udl     ATFbid     ATFask    Spot     Error  RefSpot         W isin  info  DispVolbid  DispVolask\n",
      "ts                                                                                                            \n",
      "2020-03-10  OESX  24.646138  25.215311  3071.5  1.955628  3655.77  0.139757       FESX    5.640720    7.395233\n",
      "2020-03-17  OESX  35.690101  37.699133  2404.5  2.134421  3655.77  0.155439       FESX    6.183251   10.423423\n"
     ]
    }
   ],
   "source": [
    "<h6>At this stage, you have created a df_orderbook dataframe and saved it in folder1.\n",
    "    \n",
    "We are now going to fit a vol curve on these quotes using the FittingSpline class.</h6>"
   ]
  },
  {
   "cell_type": "markdown",
   "metadata": {
    "pycharm": {
     "name": "#%%\n"
    }
   },
   "source": [
    "for udl_p in index_list + udl_list:\n",
    "    udl = udl_p[0]\n",
    "    isin = udl_p[3]\n",
    "    print(udl)\n",
    "\n",
    "    if isin[:2] == 'IT':\n",
    "        FS = FittingSpline(udl, DTi, folder1, folder2)\n",
    "    else:\n",
    "        FS = FittingSpline(udl, DT, folder1, folder2)\n",
    "\n",
    "    if FS.data_found:\n",
    "        FS.fit_all()\n",
    "        \n",
    "print(display(HTML(FS.df_params.head().to_html())))"
   ]
  },
  {
   "cell_type": "code",
   "execution_count": 29,
   "metadata": {
    "pycharm": {
     "name": "#%%\n"
    }
   },
   "outputs": [
    {
     "data": {
      "image/png": "[encoded data removed]",
      "text/plain": [
       "<Figure size 432x288 with 1 Axes>"
      ]
     },
     "metadata": {
      "needs_background": "light"
     },
     "output_type": "display_data"
    }
   ],
   "source": [
    "<h6>The partameters have been saved in folder2.</h6>\n",
    "\n",
    "We are now going to compute the dispersion volatility defined as :\n",
    "\n",
    "Dispersion Vol = ( Sum(i=1..50, Wi * ATFi^2) - (1+Leverage) * ATFindex^2 )  /  Normalisation_factor \n",
    "\n",
    "where\n",
    "- ATFi is the ATM implicit vol of the ith stock in the index\n",
    "- ATFindex is the ATM implicit vol of the index\n",
    "- Leverage is the additional notional of index varswap to sell in order to get a vega neutral dispersion.\n",
    "- Wi is the weight of the ith component in the index\n",
    "- Normalisation_factor is a factor to apply to get a vega of 1 on the index so : 2 * (1+Leverage) * ATFindex\n",
    "\n",
    "The index weight are calculated based on a \"photo\" taken on a specific date. Ref spot have been saved soi that %weight can be adjusted depending of relative stock fluctuations."
   ]
  },
  {
   "cell_type": "code",
   "execution_count": null,
   "outputs": [],
   "source": [
    "def pick_hour(df_d):\n",
    "    i = df_d.Error.idxmin()\n",
    "    return(df.loc[i,:])\n",
    "\n",
    "def compute_dispvol(df_d):\n",
    "    W = df_d.W.sum()\n",
    "    res = df_d.loc[df_d.udl == 'OESX']\n",
    "    res['W'] = W * res.RefSpot / res.Spot\n",
    "    res['DispVolbid'] = (df_d.DispVolbid.sum() / W - (1+Leverage) * res.ATFbid ** 2) / (2 * (1+Leverage) * res.ATFbid)\n",
    "    res['DispVolask'] = (df_d.DispVolask.sum() / W - (1 + Leverage) * res.ATFask ** 2) / (2 * (1 + Leverage) * res.ATFask)\n",
    "    return(res)\n",
    "\n",
    "\n",
    "matu = chosen_matu[0][:-2]\n",
    "# udl_dic = dict([(elt[0], (elt[1], elt[2])) for elt in udl_list])\n",
    "Leverage = 0.2\n",
    "\n",
    "df = pd.DataFrame()\n",
    "for udl_p in index_list + udl_list:\n",
    "    udl = udl_p[0]\n",
    "    try:\n",
    "        df_udl = pd.read_pickle(folder2 + '/Params_' + udl + '.pkl')\n",
    "    except:\n",
    "        df_udl = pd.DataFrame()\n",
    "\n",
    "    if df_udl.shape[0] > 0:\n",
    "        df_udl['udl'] = udl\n",
    "        df_udl['ATFbid'] = df_udl.spline_bid.apply(lambda x: x(0))\n",
    "        df_udl['ATFask'] = df_udl.spline_ask.apply(lambda x: x(0))\n",
    "        s = df_udl.index.levels[1].to_series()\n",
    "        df_udl.index = df_udl.index.set_levels(s.map(lambda x: x[:-2]).fillna(s), level=1)\n",
    "        df_udl = df_udl.xs(matu, level=1, drop_level=True)\n",
    "        df_udl = df_udl[['udl', 'ATFbid', 'ATFask', 'Spot', 'Error']]\n",
    "        df_udl.index = df_udl.index.map(lambda x: x.date())\n",
    "        df_udl.sort_values(by=['ts', 'Error'], inplace=True)\n",
    "        df_udl = df_udl.groupby(df_udl.index).first()\n",
    "        df = df.append(df_udl)\n",
    "\n",
    "\n",
    "dW = pd.DataFrame(index_list + udl_list, columns=['udl', 'RefSpot', 'W', 'isin', 'info'])\n",
    "df = pd.merge(df, dW, left_on='udl', right_on='udl', how='left').set_index(df.index)\n",
    "df['W'] = df.apply(lambda x: 0 if x.udl == 'OESX' else x.W / 100 * (x.Spot / x.RefSpot), axis='columns')\n",
    "df['DispVolbid'] = df.apply(lambda x: x.W * x.ATFbid ** 2, axis='columns')\n",
    "df['DispVolask'] = df.apply(lambda x: x.W * x.ATFask ** 2, axis='columns')\n",
    "df = df.groupby(df.index, group_keys=False).apply(compute_dispvol)\n",
    "\n",
    "print(df.head())"
   ],
   "metadata": {
    "collapsed": false,
    "pycharm": {
     "name": "#%%\n"
    }
   }
  },
  {
   "cell_type": "code",
   "execution_count": null,
   "outputs": [],
   "source": [
    "<h6>Finally, we will graph the DispVol vs the index vol to exhibit circular patterns as describes in the README file.</h6>"
   ],
   "metadata": {
    "collapsed": false,
    "pycharm": {
     "name": "#%%\n"
    }
   }
  },
  {
   "cell_type": "code",
   "execution_count": null,
   "outputs": [],
   "source": [
    "x = ((df['ATFbid'] + df['ATFask'])/2).values\n",
    "y = ((df['DispVolbid'] + df['DispVolask'])/2).values\n",
    "dates = [elt.strftime('%m/%d') for elt in df.index.values]\n",
    "\n",
    "u = np.diff(x)\n",
    "v = np.diff(y)\n",
    "pos_x = x[:-1] + u/2\n",
    "pos_y = y[:-1] + v/2\n",
    "norm = np.sqrt(u**2+v**2)\n",
    "\n",
    "fig, ax = plt.subplots()\n",
    "ax.plot(x,y, marker=\"o\")\n",
    "ax.quiver(pos_x, pos_y, u/norm, v/norm, angles=\"xy\", zorder=5, pivot=\"mid\")\n",
    "\n",
    "for i, txt in enumerate(dates):\n",
    "    if i%3==0:\n",
    "        # ax.annotate(txt, (x[i], y[i]))\n",
    "        ax.annotate(txt, (x[i], y[i]), xytext=(10, 10), textcoords='offset points')\n",
    "\n",
    "plt.scatter([x[-1]], [y[-1]], c='#ff0000', s=120)\n",
    "\n",
    "plt.xlabel(\"index implicit vol\")\n",
    "plt.ylabel(\"dispersion vol\")\n",
    "plt.show()"
   ],
   "metadata": {
    "collapsed": false,
    "pycharm": {
     "name": "#%%\n"
    }
   }
  },
  {
   "cell_type": "markdown",
   "source": [
    "This graph shows the evolution of the Dispersion Volatility (Y) vs the straight Implicit Volatility (X) of the index during the march 2020 market meltdown. It shows a classical example of index vol raising faster than it's components then a catch up. (See the README file of this Git for more details.)"
   ],
   "metadata": {
    "collapsed": false
   }
  }
 ],
 "metadata": {
  "kernelspec": {
   "display_name": "Python 3",
   "language": "python",
   "name": "python3"
  },
  "language_info": {
   "codemirror_mode": {
    "name": "ipython",
    "version": 3
   },
   "file_extension": ".py",
   "mimetype": "text/x-python",
   "name": "python",
   "nbconvert_exporter": "python",
   "pygments_lexer": "ipython3",
   "version": "3.8.5"
  }
 },
 "nbformat": 4,
 "nbformat_minor": 1
}
